{
  "cells": [
    {
      "cell_type": "markdown",
      "metadata": {
        "id": "2PfUHgjHIhn1"
      },
      "source": [
        "This notebook show a simple usage that use modern transformer embedding model for feature engineering instead of traditional *TF-IDF* method. Process of exploratory data analysis (EDA) would not been demonstrateed in this notebook."
      ]
    },
    {
      "cell_type": "code",
      "execution_count": 1,
      "metadata": {
        "id": "CRL9kOtlItJN"
      },
      "outputs": [],
      "source": [
        "# import necessary libeies\n",
        "\n",
        "# for data wrangling\n",
        "import numpy as np\n",
        "import pandas as pd\n",
        "\n",
        "# for creating featrues embeddings\n",
        "from sentence_transformers import SentenceTransformer\n",
        "\n",
        "# for cumpute cosine similarity between item\n",
        "from sklearn.metrics.pairwise import cosine_similarity"
      ]
    },
    {
      "cell_type": "markdown",
      "metadata": {
        "id": "-UH300OIJi7v"
      },
      "source": [
        "In this project, I used \"*Anime Recommendations Database*\" from **[kaggle](https://www.kaggle.com/datasets/CooperUnion/anime-recommendations-database/data)** to demonstrate modeling process. And in this notebook, I would only use \"anime.csv\" in this notebook."
      ]
    },
    {
      "cell_type": "code",
      "execution_count": null,
      "metadata": {
        "id": "h33QP_8XJfRs"
      },
      "outputs": [],
      "source": [
        "# set path of data\n",
        "path_anime = \"/content/sample_data/anime.csv\" # remember type in right path\n",
        "\n",
        "# read anime data\n",
        "df_anime_raw = pd.read_csv(path_anime)"
      ]
    },
    {
      "cell_type": "markdown",
      "metadata": {
        "id": "FaEOLkJEMuSk"
      },
      "source": [
        "**Basic data wrangling process**.\n",
        "For just simple demonstration, we drop NaN data directly. Then checking that remained data are enough to represent most dataset. And finally, we sorted data by **\"name\"** column for checking recommendation results easily."
      ]
    },
    {
      "cell_type": "code",
      "execution_count": null,
      "metadata": {
        "colab": {
          "base_uri": "https://localhost:8080/"
        },
        "id": "Foii3eL-URAL",
        "outputId": "1bee471a-651e-4efb-9797-aeed67934bd8"
      },
      "outputs": [
        {
          "name": "stdout",
          "output_type": "stream",
          "text": [
            "0.9775\n"
          ]
        }
      ],
      "source": [
        "# drop NaN data directly and\n",
        "df_anime = df_anime_raw.dropna(axis=0).copy()\n",
        "\n",
        "# rename ['genre'] column as ['tags']\n",
        "df_anime = df_anime.rename(columns={\"genre\":\"tags\"}).reset_index(drop = True)\n",
        "\n",
        "# check remained data are enough to represent most dataset.\n",
        "print( round( len(df_anime) / len(df_anime_raw), 4 ) )\n",
        "# 0.9775, it's still over than 0.95 of raw dataset!\n",
        "\n",
        "# sort df_anime by ['name'] for\n",
        "df_anime = df_anime.sort_values(['name'], axis = 0).reset_index(drop = True)"
      ]
    },
    {
      "cell_type": "markdown",
      "metadata": {
        "id": "EoWfN0gj6GVx"
      },
      "source": [
        "In the most simple application scenario, user may want to search the relevant works by the name of giving work. The traditional methods may include *TF-IDF*, edit-distance measurements, which are all statistics based methods. Instead, this notebook demonstrated how to use modern transformer-based model to get potential feature of text columns."
      ]
    },
    {
      "cell_type": "code",
      "execution_count": null,
      "metadata": {
        "id": "vcBiztcl8eKq"
      },
      "outputs": [],
      "source": [
        "# set embedding model\n",
        "model_embedding = SentenceTransformer(\"all-MiniLM-L6-v2\")\n",
        "\n",
        "# get list of name of anime works\n",
        "list_name = df_anime['name'].tolist().copy()\n",
        "\n",
        "# get embedding by model_embedding\n",
        "array_name_embeddings = model_embedding.encode(list_name, normalize_embeddings = True)\n",
        "\n",
        "# get cosine similarity matrix of array_name_embeddings\n",
        "array_cosine_sim_name = cosine_similarity(array_name_embeddings,array_name_embeddings)\n",
        "\n",
        "# convert array_cosine_sim_name to pd.DataFrame()\n",
        "df_sim_score_name = pd.merge(df_anime, pd.DataFrame(array_cosine_sim_name),\n",
        "                left_index = True, right_index = True)"
      ]
    },
    {
      "cell_type": "markdown",
      "metadata": {
        "id": "9dtsNLhRw0Gb"
      },
      "source": [
        "For checking results of recommendation, we built simple function to deal this task, and use this function to test recommended results."
      ]
    },
    {
      "cell_type": "code",
      "execution_count": null,
      "metadata": {
        "colab": {
          "base_uri": "https://localhost:8080/"
        },
        "id": "AbS4NdbOxL5i",
        "outputId": "f411c923-2292-4771-f424-d377c39f1800"
      },
      "outputs": [
        {
          "name": "stdout",
          "output_type": "stream",
          "text": [
            "Pokemon Best Wishes! Season 2\n",
            "      anime_id                                               name  \\\n",
            "8304     14093                      Pokemon Best Wishes! Season 2   \n",
            "8308     17115           Pokemon Best Wishes! Season 2: Episode N   \n",
            "8305     17873  Pokemon Best Wishes! Season 2: Decolora Adventure   \n",
            "8303      9107                               Pokemon Best Wishes!   \n",
            "8310     16680  Pokemon Best Wishes! Season 2: Shinsoku no Gen...   \n",
            "8307     23299  Pokemon Best Wishes! Season 2: Decolora Advent...   \n",
            "8306     20743  Pokemon Best Wishes! Season 2: Decolora Advent...   \n",
            "8309     12671  Pokemon Best Wishes! Season 2: Kyurem vs. Seik...   \n",
            "8312     10740  Pokemon Best Wishes!: Victini to Shiroki Eiyuu...   \n",
            "8295       527                                            Pokemon   \n",
            "8313     14123      Pokemon Black and White 2: Introduction Movie   \n",
            "8325     34514                                Pokemon Generations   \n",
            "3524     28891                            Haikyuu!! Second Season   \n",
            "8340     29419  Pokemon XY: New Year&#039;s Eve 2014 Super Meg...   \n",
            "8345     11073                        Pokemon: Ash&#039;s Journey   \n",
            "\n",
            "                                                 tags     type episodes  \\\n",
            "8304         Action, Adventure, Comedy, Fantasy, Kids       TV       24   \n",
            "8308         Action, Adventure, Comedy, Fantasy, Kids       TV       14   \n",
            "8305         Action, Adventure, Comedy, Fantasy, Kids       TV       20   \n",
            "8303         Action, Adventure, Comedy, Fantasy, Kids       TV       84   \n",
            "8310         Action, Adventure, Comedy, Fantasy, Kids    Movie        1   \n",
            "8307         Action, Adventure, Comedy, Fantasy, Kids  Special        1   \n",
            "8306         Action, Adventure, Comedy, Fantasy, Kids  Special        1   \n",
            "8309  Action, Adventure, Comedy, Drama, Fantasy, Kids    Movie        1   \n",
            "8312          Adventure, Comedy, Drama, Fantasy, Kids    Movie        1   \n",
            "8295         Action, Adventure, Comedy, Fantasy, Kids       TV      276   \n",
            "8313                            Action, Fantasy, Kids      ONA        1   \n",
            "8325           Action, Adventure, Fantasy, Game, Kids      ONA       18   \n",
            "3524           Comedy, Drama, School, Shounen, Sports       TV       25   \n",
            "8340         Action, Adventure, Comedy, Fantasy, Kids  Special        1   \n",
            "8345                                    Fantasy, Kids    Movie        1   \n",
            "\n",
            "      rating  members       sim  \n",
            "8304    6.78    19603  1.000000  \n",
            "8308    7.04    13647  0.935529  \n",
            "8305    6.61    12499  0.833935  \n",
            "8303    6.78    33730  0.817477  \n",
            "8310    6.65    12517  0.779362  \n",
            "8307    6.79     2935  0.726654  \n",
            "8306    6.90     3395  0.682641  \n",
            "8309    6.68    14498  0.661429  \n",
            "8312    6.92    15377  0.588010  \n",
            "8295    7.43   229157  0.584153  \n",
            "8313    7.71     8554  0.575281  \n",
            "8325    7.21      295  0.572748  \n",
            "3524    8.93   179342  0.542844  \n",
            "8340    6.56     1358  0.541373  \n",
            "8345    6.75     4578  0.540990  \n"
          ]
        }
      ],
      "source": [
        "# build a functo to check result of recommendation conveniently.\n",
        "def get_recommended_results(index, df_input, return_qty = 15):\n",
        "    \"\"\"\n",
        "    Get recommended results in pd.DataFrame format with giving df_sim_score_name.\n",
        "    # ------------------------------------------------\n",
        "    Args:\n",
        "      index: integer\n",
        "          The index of df_sim_score_name of work.\n",
        "      df_input: pd.DataFrame\n",
        "          A pd.DataFrame where we want to find out recommended results\n",
        "    # ------------------------------------------------\n",
        "    Returns:\n",
        "        df_result: pd.DataFrame\n",
        "            Therecommended results\n",
        "    \"\"\"\n",
        "    list_common_col = ['anime_id', 'name', 'tags', 'type', 'episodes', 'rating', 'members']\n",
        "\n",
        "    if len(df_input) == 0:\n",
        "      df_result = pd.DataFrame(columns = list_common_col + ['sim'])\n",
        "    else:\n",
        "      if return_qty > len(df_input):\n",
        "        return_qty = len(df_input)\n",
        "\n",
        "      df_result = df_input[list_common_col + [index]].sort_values(index, ascending = False).iloc[:return_qty].copy()\n",
        "      df_result = df_result.rename(columns={index: 'sim'})\n",
        "\n",
        "    return df_result\n",
        "# End of function: get_recommended_results()\n",
        "\n",
        "\n",
        "# test: find top 15 relevant works \"Prince of Tennis\" (index = 8304)\n",
        "print(df_anime['name'].iat[8304])\n",
        "index = 8304\n",
        "\n",
        "df_result = get_recommended_results(index, df_sim_score_name)\n",
        "print(df_result)"
      ]
    },
    {
      "cell_type": "markdown",
      "metadata": {
        "id": "09wQJxhTXUMv"
      },
      "source": [
        "The result was seemed very good! But that because \"Prince of Tennis\" has lot of relevant works in a same series. If we want to find recommended results of relatively unpopular work? Let's see the following example."
      ]
    },
    {
      "cell_type": "code",
      "execution_count": null,
      "metadata": {
        "colab": {
          "base_uri": "https://localhost:8080/"
        },
        "id": "IHsqXhv6o8_1",
        "outputId": "2541122b-3392-430d-f457-600e74b313b2"
      },
      "outputs": [
        {
          "name": "stdout",
          "output_type": "stream",
          "text": [
            "Ohayo! Spank (Movie)\n",
            "       anime_id                                               name  \\\n",
            "7673      19897                               Ohayo! Spank (Movie)   \n",
            "7672       2912                                       Ohayo! Spank   \n",
            "4739       9617                                        K-On! Movie   \n",
            "8992       4031                         Sakigake!! Otokojuku Movie   \n",
            "8088      29832       Panpaka Pants Movie: Bananan Oukoku no Hihou   \n",
            "1759       3745  Crayon Shin-chan Movie 02: Buriburi Oukoku no ...   \n",
            "9747       1764                                  Slam Dunk (Movie)   \n",
            "1771       8366  Crayon Shin-chan Movie 14: Densetsu wo Yobu Od...   \n",
            "3952       5956                     High School! Kimengumi (Movie)   \n",
            "4084       1358                                Hokuto no Ken Movie   \n",
            "11083       711                        Uchuu Senkan Yamato (Movie)   \n",
            "11645      6693  Yatterman the Movie: Shin Yattermecha Osu Gou!...   \n",
            "4746      31344                    K: Missing Kings - Manner Movie   \n",
            "7881      23007                         Ookami Shounen Ken (Movie)   \n",
            "4833      30313       Kaiketsu Zorori Movie: Uchuu no Yuusha-tachi   \n",
            "\n",
            "                                                    tags   type episodes  \\\n",
            "7673                      Comedy, Romance, Slice of Life  Movie        1   \n",
            "7672                               Comedy, Slice of Life     TV       63   \n",
            "4739                        Comedy, Music, Slice of Life  Movie        1   \n",
            "8992       Action, Comedy, Martial Arts, School, Shounen  Movie        1   \n",
            "8088                                     Adventure, Kids  Movie        1   \n",
            "1759   Comedy, Ecchi, Kids, School, Shounen, Slice of...  Movie        1   \n",
            "9747   Comedy, Drama, School, Shounen, Slice of Life,...  Movie        1   \n",
            "1771   Comedy, Ecchi, Kids, School, Shounen, Slice of...  Movie        1   \n",
            "3952    Action, Comedy, Parody, Romance, School, Shounen  Movie        1   \n",
            "4084                          Adventure, Sci-Fi, Shounen  Movie        1   \n",
            "11083                     Drama, Military, Sci-Fi, Space  Movie        1   \n",
            "11645                                       Comedy, Kids  Movie        1   \n",
            "4746                                              Comedy  Movie        1   \n",
            "7881                                     Adventure, Kids  Movie        1   \n",
            "4833                                   Adventure, Comedy  Movie        1   \n",
            "\n",
            "       rating  members       sim  \n",
            "7673     6.57       97  1.000000  \n",
            "7672     6.73      981  0.849020  \n",
            "4739     8.34   115252  0.554912  \n",
            "8992     6.85     1060  0.523547  \n",
            "8088     6.17       70  0.497703  \n",
            "1759     7.15     2073  0.496399  \n",
            "9747     7.47     8750  0.495884  \n",
            "1771     6.88      973  0.485746  \n",
            "3952     6.51      270  0.482553  \n",
            "4084     7.30     9328  0.481060  \n",
            "11083    7.04     2154  0.478898  \n",
            "11645    6.44      448  0.477245  \n",
            "4746     6.72     3235  0.476592  \n",
            "7881     4.00       73  0.474115  \n",
            "4833     5.00      102  0.473459  \n"
          ]
        }
      ],
      "source": [
        "# test: find top 15 relevant works \"One Punch Man\" (index = 7673)\n",
        "print(df_anime['name'].iat[7673])\n",
        "index = 7673\n",
        "\n",
        "df_result_1 = get_recommended_results(index, df_sim_score_name)\n",
        "print(df_result_1)"
      ]
    },
    {
      "cell_type": "markdown",
      "metadata": {
        "id": "GwvEvc0YpvBe"
      },
      "source": [
        "To deal this task, we can combine more infomation from other columns. In the following codes, we showed the process that integrate ['name', 'tags',\n",
        " 'members', 'rating'] columns into a new feature!"
      ]
    },
    {
      "cell_type": "code",
      "execution_count": null,
      "metadata": {
        "id": "JzDHdZVwmMPm"
      },
      "outputs": [],
      "source": [
        "df_anime_copy = df_anime[['anime_id']].copy()\n",
        "df_anime_copy['tags'] = df_anime['tags']\n",
        "\n",
        "# get list of name of anime works\n",
        "list_tags = df_anime_copy['tags'].tolist().copy()\n",
        "\n",
        "# get embedding by model_embedding\n",
        "array_tags_embeddings = model_embedding.encode(list_tags, normalize_embeddings = True)\n",
        "\n",
        "# standardize ['rating'] columns\n",
        "df_anime_copy['rating_norm'] = np.round(df_anime['rating'] / 10, 6)\n",
        "df_anime_copy['rating_log_norm'] = np.round(np.log(df_anime['members']) / max(np.log(df_anime['members']) ) / 10, 6)\n",
        "\n",
        "# combine the following features: array_name_tags_embeddings + ['rating_norm'] + ['rating_log_norm']\n",
        "list_new_features = []\n",
        "for i in df_anime_copy.index:\n",
        "    array_temp_1 = array_name_embeddings[i]\n",
        "    array_temp_2 = array_tags_embeddings[i]\n",
        "    array_temp_3 = df_anime_copy[['rating_norm','rating_log_norm']\n",
        "                                 ].values[i]\n",
        "    array_temp_0 = np.concatenate([array_temp_1, array_temp_2, array_temp_3], axis=0)\n",
        "\n",
        "    list_new_features.append(array_temp_0)\n",
        "    del array_temp_1, array_temp_2, array_temp_3, array_temp_0\n",
        "# End for/loop"
      ]
    },
    {
      "cell_type": "markdown",
      "metadata": {
        "id": "BzevjGUI1gt0"
      },
      "source": [
        "Now let's check result of recommendation with new features!"
      ]
    },
    {
      "cell_type": "code",
      "execution_count": null,
      "metadata": {
        "colab": {
          "base_uri": "https://localhost:8080/"
        },
        "id": "tYe0Z5fO1ovz",
        "outputId": "b7a093c5-8e7c-418c-c23c-76eac77461cf"
      },
      "outputs": [
        {
          "name": "stdout",
          "output_type": "stream",
          "text": [
            "Ohayo! Spank (Movie)\n",
            "       anime_id                                       name  \\\n",
            "7673      19897                       Ohayo! Spank (Movie)   \n",
            "7672       2912                               Ohayo! Spank   \n",
            "4739       9617                                K-On! Movie   \n",
            "3323        852                         Gokinjo Monogatari   \n",
            "5986        191    Love Hina Christmas Special: Silent Eve   \n",
            "7734        470                Okusama wa Joshikousei (TV)   \n",
            "7692      16730                Ojamanga Yamada-kun (Movie)   \n",
            "8100      17875           Papa no Iukoto wo Kikinasai! OVA   \n",
            "10324     21647                          Tamako Love Story   \n",
            "8099      11179               Papa no Iukoto wo Kikinasai!   \n",
            "6325       1453                              Maison Ikkoku   \n",
            "3574      19495                              Hakusai Anime   \n",
            "5608       6571                         Koume-chan ga Iku!   \n",
            "3933       6372  Higashi no Eden Movie I: The King of Eden   \n",
            "8140      27399        Peeping Life Movie: We Are The Hero   \n",
            "\n",
            "                                                    tags     type episodes  \\\n",
            "7673                      Comedy, Romance, Slice of Life    Movie        1   \n",
            "7672                               Comedy, Slice of Life       TV       63   \n",
            "4739                        Comedy, Music, Slice of Life    Movie        1   \n",
            "3323               Comedy, Drama, Romance, Slice of Life       TV       50   \n",
            "5986                      Comedy, Romance, Slice of Life  Special        1   \n",
            "7734               Comedy, Drama, Romance, Slice of Life       TV       13   \n",
            "7692                               Comedy, Slice of Life    Movie        1   \n",
            "8100                      Comedy, Romance, Slice of Life      OVA        2   \n",
            "10324                     Comedy, Romance, Slice of Life    Movie        1   \n",
            "8099                      Comedy, Romance, Slice of Life       TV       12   \n",
            "6325               Comedy, Drama, Romance, Slice of Life       TV       96   \n",
            "3574              Comedy, Romance, School, Slice of Life      ONA        3   \n",
            "5608                      Comedy, Romance, Slice of Life       TV       12   \n",
            "3933   Comedy, Drama, Mystery, Romance, Slice of Life...    Movie        1   \n",
            "8140                               Comedy, Slice of Life      OVA        1   \n",
            "\n",
            "       rating  members       sim  \n",
            "7673     6.57       97  1.000000  \n",
            "7672     6.73      981  0.891044  \n",
            "4739     8.34   115252  0.775109  \n",
            "3323     7.56     7279  0.742260  \n",
            "5986     7.44    45137  0.737848  \n",
            "7734     6.45    14010  0.726567  \n",
            "7692     7.09      142  0.724593  \n",
            "8100     7.45    19904  0.712948  \n",
            "10324    8.16    72708  0.710473  \n",
            "8099     7.51    97674  0.709059  \n",
            "6325     8.25    22079  0.707432  \n",
            "3574     6.56      260  0.706681  \n",
            "5608     5.90      375  0.706299  \n",
            "3933     7.74   101734  0.704750  \n",
            "8140     5.10      127  0.704295  \n"
          ]
        }
      ],
      "source": [
        "# get array_new_features\n",
        "array_new_features = np.array(list_new_features)\n",
        "array_cosine_sim_multi_col = cosine_similarity(array_new_features, array_new_features)\n",
        "\n",
        "# convert array_cosine_sim_multi_col to pd.DataFrame()\n",
        "df_sim_score_multi_col = pd.merge(df_anime, pd.DataFrame(array_cosine_sim_multi_col),\n",
        "                  left_index = True, right_index = True)\n",
        "\n",
        "\n",
        "# test: find top 15 relevant works \"One Punch Man\" (index = 7673)\n",
        "print(df_anime['name'].iat[7673])\n",
        "index = 7673\n",
        "\n",
        "df_result_2 = get_recommended_results(index, df_sim_score_multi_col)\n",
        "print(df_result_2)"
      ]
    },
    {
      "cell_type": "markdown",
      "metadata": {
        "id": "Aj3ewJvP4IYV"
      },
      "source": [
        "# **Summary**\n",
        "This notebook showed a simple usage that use modern transformer embedding model for feature engineering instead of traditional *TF-IDF* method to build a content-based recommendation system.\n",
        "# Some may ask: \"It's just that?\"\n",
        "# Yes!\n",
        "Because a production-ready level data science project in the real world should consider more and more factors and domain knowledges.\n",
        "Take this \"anime.csv\" this dataset as an example, like a movie, an anime works must with it:\n",
        "*   Author of original work\n",
        "*   Released year\n",
        "*   Director\n",
        "*   Screenwriter\n",
        "*   Character voice\n",
        "*   Music of OP/ED and its singer\n",
        "*   Music of OST and its composer\n",
        "*   The company which produced this anime works\n",
        "*   etc.\n",
        "\n",
        "The above information did not exist in this demo dataset, or we could make the recommendation much more miscellaneous.\n",
        "A production-ready level data science project must be implemented cross-function departments in an organization with many details of project management. This also a precious experience of each data scientist. We may have an interview to talk about that. Thanks your reading in the end of this notebook! 🙂"
      ]
    }
  ],
  "metadata": {
    "colab": {
      "provenance": []
    },
    "kernelspec": {
      "display_name": "base",
      "language": "python",
      "name": "python3"
    },
    "language_info": {
      "codemirror_mode": {
        "name": "ipython",
        "version": 3
      },
      "file_extension": ".py",
      "mimetype": "text/x-python",
      "name": "python",
      "nbconvert_exporter": "python",
      "pygments_lexer": "ipython3",
      "version": "3.12.3"
    }
  },
  "nbformat": 4,
  "nbformat_minor": 0
}
